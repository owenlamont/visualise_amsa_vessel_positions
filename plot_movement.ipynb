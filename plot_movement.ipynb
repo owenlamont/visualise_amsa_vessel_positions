{
 "cells": [
  {
   "cell_type": "code",
   "execution_count": null,
   "id": "6c66d38f-c5cc-49d4-a300-8ebd23b9f116",
   "metadata": {},
   "outputs": [],
   "source": [
    "from pathlib import Path\n",
    "import pandas as pd\n",
    "import geopandas as gpd\n",
    "from tqdm.auto import tqdm\n",
    "import matplotlib.pyplot as plt\n",
    "import movingpandas as mpd\n",
    "from shapely.geometry import box\n",
    "from matplotlib.animation import FFMpegWriter\n",
    "from datetime import timedelta\n",
    "import colorcet as cc"
   ]
  },
  {
   "cell_type": "code",
   "execution_count": null,
   "id": "c16ea572-6fb8-4b5e-a7d3-2136e1aa7dfd",
   "metadata": {},
   "outputs": [],
   "source": [
    "states_provinces_gdf = gpd.read_file(\"../../natural_earth_vector/10m_cultural/ne_10m_admin_1_states_provinces.shp\")\n",
    "aus_geometry = states_provinces_gdf[states_provinces_gdf[\"admin\"] == \"Australia\"].unary_union"
   ]
  },
  {
   "cell_type": "code",
   "execution_count": null,
   "id": "2abc90ac-e1ce-4377-8bc2-447cd4de3587",
   "metadata": {},
   "outputs": [],
   "source": [
    "min_lon = 110.0\n",
    "max_lon = 157.0\n",
    "min_lat = -45.0\n",
    "max_lat = -5.0\n",
    "australia_bbox = box(min_lon, min_lat, max_lon, max_lat)"
   ]
  },
  {
   "cell_type": "code",
   "execution_count": null,
   "id": "7c24f3bfb066aaa6",
   "metadata": {},
   "outputs": [],
   "source": [
    "aus_poly_geoseries = gpd.GeoSeries([aus_geometry])"
   ]
  },
  {
   "cell_type": "code",
   "execution_count": null,
   "id": "c90302254f6fea8d",
   "metadata": {},
   "outputs": [],
   "source": [
    "ax = aus_poly_geoseries.plot()\n",
    "# ax.set_facecolor(\"black\")\n",
    "ax.set_xlim(min_lon, max_lon)\n",
    "ax.set_ylim(min_lat, max_lat)"
   ]
  },
  {
   "cell_type": "code",
   "execution_count": null,
   "id": "cbe688a6f5ea0cb7",
   "metadata": {},
   "outputs": [],
   "source": [
    "vessel_files = [\n",
    "    f\"Vessel_Traffic_Data_{date:%B_%Y}.parquet\" for date in pd.date_range(start=\"Nov 2022\", end=\"Nov 2023\", freq=\"M\")\n",
    "]"
   ]
  },
  {
   "cell_type": "code",
   "execution_count": null,
   "id": "feb3fd144b340a40",
   "metadata": {},
   "outputs": [],
   "source": [
    "vessel_pos_gdf_list = [\n",
    "    gpd.read_parquet(Path(\"../scrape_amsa_vessel_positions/vessel_position_parquets\") / file)\n",
    "    for file in tqdm(vessel_files)\n",
    "]"
   ]
  },
  {
   "cell_type": "code",
   "execution_count": null,
   "id": "7d36c9378ba13e98",
   "metadata": {},
   "outputs": [],
   "source": [
    "vessel_pos_combined_gdf = pd.concat(vessel_pos_gdf_list, axis=0, ignore_index=True)"
   ]
  },
  {
   "cell_type": "code",
   "execution_count": null,
   "id": "c8213597ef13ee9c",
   "metadata": {},
   "outputs": [],
   "source": [
    "vessel_pos_combined_gdf.to_parquet(\"vessel_pos_combined.parquet\")"
   ]
  },
  {
   "cell_type": "code",
   "execution_count": null,
   "id": "6a21c72a-8ff7-4028-8fef-2827ab481db2",
   "metadata": {},
   "outputs": [],
   "source": [
    "vessel_pos_combined_gdf = gpd.read_parquet(\"vessel_pos_combined.parquet\")"
   ]
  },
  {
   "cell_type": "code",
   "execution_count": null,
   "id": "26481175efd4ff98",
   "metadata": {},
   "outputs": [],
   "source": [
    "vessel_pos_combined_gdf.drop([\"COURSE\", \"SPEED\"], axis=1, inplace=True)"
   ]
  },
  {
   "cell_type": "code",
   "execution_count": null,
   "id": "d4fb04c118ed82e4",
   "metadata": {},
   "outputs": [],
   "source": [
    "ship_traj_collection = mpd.TrajectoryCollection(\n",
    "    vessel_pos_combined_gdf, traj_id_col=\"CRAFT_ID\", t=\"TIMESTAMP\", x=\"LON\", y=\"LAT\"\n",
    ")"
   ]
  },
  {
   "cell_type": "code",
   "execution_count": null,
   "id": "50f7efd9952081f9",
   "metadata": {},
   "outputs": [],
   "source": [
    "clipped_ship_traj_collection = ship_traj_collection.clip(australia_bbox)"
   ]
  },
  {
   "cell_type": "code",
   "execution_count": null,
   "id": "6f7a8d777c12b6b3",
   "metadata": {},
   "outputs": [],
   "source": [
    "split_ship_traj_collection = mpd.ObservationGapSplitter(clipped_ship_traj_collection).split(gap=timedelta(days=5))"
   ]
  },
  {
   "cell_type": "code",
   "execution_count": null,
   "id": "66208383298147c3",
   "metadata": {},
   "outputs": [],
   "source": [
    "resampled_ship_trajectories = []\n",
    "for ship_traj in tqdm(split_ship_traj_collection.trajectories):\n",
    "    df = ship_traj.df.drop(columns=\"geometry\")\n",
    "    resampled_df = df[[\"LON\", \"LAT\"]].resample(\"60T\").first().interpolate()\n",
    "    if len(resampled_df) < 2:\n",
    "        continue\n",
    "    additional_columns = [column for column in df.columns if column not in {\"LON\", \"LAT\"}]\n",
    "    for column in additional_columns:\n",
    "        resampled_df[column] = df[column].iloc[0]\n",
    "    craft_id = resampled_df[\"CRAFT_ID\"].iloc[0].split(\"_\")[0]\n",
    "    resampled_ship_trajectories.append(mpd.Trajectory(resampled_df, craft_id, traj_id_col=\"CRAFT_ID\", x=\"LON\", y=\"LAT\"))"
   ]
  },
  {
   "cell_type": "code",
   "execution_count": null,
   "id": "698b2ca7652c2ea9",
   "metadata": {},
   "outputs": [],
   "source": [
    "line_str_ship_trajectory_list = [ship_traj.to_line_gdf() for ship_traj in tqdm(resampled_ship_trajectories)]"
   ]
  },
  {
   "cell_type": "code",
   "execution_count": null,
   "id": "329d163ddbd88c77",
   "metadata": {},
   "outputs": [],
   "source": [
    "line_str_ship_trajectory_gdf = pd.concat(line_str_ship_trajectory_list, axis=0, ignore_index=True)"
   ]
  },
  {
   "cell_type": "code",
   "execution_count": null,
   "id": "5ab16a192ea922b5",
   "metadata": {},
   "outputs": [],
   "source": [
    "line_str_ship_trajectory_gdf.to_parquet(\"ship_lines.parquet\")"
   ]
  },
  {
   "cell_type": "code",
   "execution_count": null,
   "id": "a432b7cd-171a-42a4-8e67-b1654719fa73",
   "metadata": {},
   "outputs": [],
   "source": [
    "line_str_ship_trajectory_gdf = gpd.read_parquet(\"ship_lines.parquet\")"
   ]
  },
  {
   "cell_type": "code",
   "execution_count": null,
   "id": "c29cd643-85ab-4a5e-8f42-51fcf4fad4e9",
   "metadata": {},
   "outputs": [],
   "source": [
    "gdf_index = line_str_ship_trajectory_gdf.sindex"
   ]
  },
  {
   "cell_type": "code",
   "execution_count": null,
   "id": "999f6c0f-f2db-47cc-92d6-84d151cfbc6f",
   "metadata": {
    "is_executing": true
   },
   "outputs": [],
   "source": [
    "land_intersecting_lines = line_str_ship_trajectory_gdf.intersects(aus_geometry)"
   ]
  },
  {
   "cell_type": "code",
   "execution_count": null,
   "id": "7f50bba4-c723-45de-9904-884e1d458fc8",
   "metadata": {},
   "outputs": [],
   "source": [
    "land_intersecting_lines.sum()"
   ]
  },
  {
   "cell_type": "code",
   "execution_count": null,
   "id": "0ee3253c-34f9-441e-8e74-0ad4b543db18",
   "metadata": {
    "is_executing": true
   },
   "outputs": [],
   "source": [
    "filtered_ship_lines_gdf = line_str_ship_trajectory_gdf[~land_intersecting_lines]"
   ]
  },
  {
   "cell_type": "code",
   "execution_count": null,
   "id": "42ed4db4d641b21a",
   "metadata": {
    "is_executing": true
   },
   "outputs": [],
   "source": [
    "filtered_ship_lines_gdf.to_parquet(\"filtered_ship_lines.parquet\")"
   ]
  },
  {
   "cell_type": "code",
   "execution_count": null,
   "id": "4d532885-2b84-4b6f-b014-9d69e922ecd6",
   "metadata": {},
   "outputs": [],
   "source": [
    "filtered_ship_lines_gdf = gpd.read_parquet(\"filtered_ship_lines.parquet\")"
   ]
  },
  {
   "cell_type": "code",
   "execution_count": null,
   "id": "253871e63970037e",
   "metadata": {},
   "outputs": [],
   "source": [
    "gdf = filtered_ship_lines_gdf.to_crs(\"EPSG:3577\")\n",
    "geometry_lengths = filtered_ship_lines_gdf.geometry.length"
   ]
  },
  {
   "cell_type": "code",
   "execution_count": null,
   "id": "745fea9abccab497",
   "metadata": {},
   "outputs": [],
   "source": [
    "geometry_lengths.quantile([0.05, 0.5, 0.75, 0.9, 0.95, 0.99, 0.999, 0.9999, 0.99999, 0.999999])"
   ]
  },
  {
   "cell_type": "code",
   "execution_count": null,
   "id": "a98c275e2cd6896c",
   "metadata": {},
   "outputs": [],
   "source": [
    "len(geometry_lengths)"
   ]
  },
  {
   "cell_type": "code",
   "execution_count": null,
   "id": "afa72e1c2ea7c28b",
   "metadata": {},
   "outputs": [],
   "source": [
    "DPI = 200\n",
    "FRAME_RATE = 60\n",
    "anim_file_path = Path(\"./ship_movement.mp4\")\n",
    "file_writer = FFMpegWriter(fps=FRAME_RATE)\n",
    "tail_length = 12\n",
    "pallette = cc.fire\n",
    "pallette_max_index = len(pallette) - 1\n",
    "time_delta_colours = [\n",
    "    (pd.Timedelta(hours=step), pallette[pallette_max_index - int((step / tail_length) * pallette_max_index)])\n",
    "    for step in range(tail_length, -1, -1)\n",
    "]\n",
    "time_index = pd.date_range(start=filtered_ship_lines_gdf[\"t\"].min(), end=filtered_ship_lines_gdf[\"t\"].max(), freq=\"H\")"
   ]
  },
  {
   "cell_type": "code",
   "execution_count": null,
   "id": "bac1747c-aab0-41af-9285-a680f3fe3710",
   "metadata": {},
   "outputs": [],
   "source": [
    "fig = plt.figure(facecolor=\"black\", dpi=DPI)\n",
    "ax = fig.add_axes([0, 0, 1, 1])\n",
    "clock_axes = fig.add_axes([0.75, 0.85, 0.23, 0.13], facecolor=None)\n",
    "with file_writer.saving(fig, anim_file_path, dpi=DPI):\n",
    "    for time in tqdm(time_index):\n",
    "        ax.cla()\n",
    "        clock_axes.cla()\n",
    "        aus_poly_geoseries.plot(color=\"darkorange\", ax=ax, aspect=None, zorder=1)\n",
    "        for time_delta, color in time_delta_colours:\n",
    "            ship_mask = filtered_ship_lines_gdf[\"t\"] == (time - time_delta)\n",
    "            if ship_mask.sum() > 0:\n",
    "                filtered_ship_lines_gdf[ship_mask].plot(color=color, linewidth=0.5, ax=ax, aspect=None, zorder=2)\n",
    "        ax.set_xlim(min_lon, max_lon)\n",
    "        ax.set_ylim(min_lat, max_lat)\n",
    "        ax.set_axis_off()\n",
    "        clock_axes.set_axis_off()\n",
    "        clock_axes.text(\n",
    "            0.5,\n",
    "            0.5,\n",
    "            f\"Vessel Positions\\n{time:%d %b %Y %H:%M} UTC\",\n",
    "            fontsize=10,\n",
    "            ha=\"center\",\n",
    "            color=\"white\",\n",
    "            bbox={\"boxstyle\": \"round\", \"alpha\": 0.5, \"facecolor\": \"salmon\"},\n",
    "        )\n",
    "        file_writer.grab_frame()"
   ]
  }
 ],
 "metadata": {
  "kernelspec": {
   "display_name": "Python 3 (ipykernel)",
   "language": "python",
   "name": "python3"
  },
  "language_info": {
   "codemirror_mode": {
    "name": "ipython",
    "version": 3
   },
   "file_extension": ".py",
   "mimetype": "text/x-python",
   "name": "python",
   "nbconvert_exporter": "python",
   "pygments_lexer": "ipython3",
   "version": "3.11.6"
  }
 },
 "nbformat": 4,
 "nbformat_minor": 5
}
