{
 "cells": [
  {
   "cell_type": "code",
   "execution_count": null,
   "id": "a796f76a-5410-45de-bb84-657e12d08c10",
   "metadata": {},
   "outputs": [],
   "source": [
    "from pathlib import Path\n",
    "import datashader as ds\n",
    "import datashader.transfer_functions as tf\n",
    "import geopandas as gpd\n",
    "import pandas as pd\n",
    "import colorcet\n",
    "from tqdm.auto import tqdm\n",
    "from shapely.geometry import box"
   ]
  },
  {
   "cell_type": "code",
   "execution_count": null,
   "id": "1cf89138-e5ed-439d-b391-d7fc9250cbcb",
   "metadata": {},
   "outputs": [],
   "source": [
    "parquet_files = list(Path(\"../scrape_amsa_vessel_positions/vessel_position_parquets\").glob(\"*.parquet\"))"
   ]
  },
  {
   "cell_type": "code",
   "execution_count": null,
   "id": "259bd278-f5ed-48a8-84f4-93091e518d9b",
   "metadata": {},
   "outputs": [],
   "source": [
    "vessel_pos_gdf_list = [gpd.read_parquet(file) for file in tqdm(parquet_files)]"
   ]
  },
  {
   "cell_type": "code",
   "execution_count": null,
   "id": "dde242ee-3c44-4f42-a894-4196d90fd67f",
   "metadata": {},
   "outputs": [],
   "source": [
    "vessel_pos_combined_gdf = pd.concat(vessel_pos_gdf_list, axis=0, ignore_index=True)"
   ]
  },
  {
   "cell_type": "code",
   "execution_count": null,
   "id": "8ead3ef3-85b5-42b7-85a8-833a1968fb72",
   "metadata": {},
   "outputs": [],
   "source": [
    "vessel_pos_combined_gdf.to_parquet(\"ship_locations_full_history.parquet\")"
   ]
  },
  {
   "cell_type": "code",
   "execution_count": null,
   "id": "930eb631-55d6-40da-a503-c0037be570ab",
   "metadata": {},
   "outputs": [],
   "source": [
    "min_lon = 110.0\n",
    "max_lon = 157.0\n",
    "min_lat = -45.0\n",
    "max_lat = -5.0\n",
    "australia_bbox = box(min_lon, min_lat, max_lon, max_lat)"
   ]
  },
  {
   "cell_type": "code",
   "execution_count": null,
   "id": "3a902f05-893b-41b3-889d-6dd1f197a11d",
   "metadata": {},
   "outputs": [],
   "source": [
    "vessel_pos_combined_gdf = gpd.read_parquet(\"ship_locations_full_history.parquet\")"
   ]
  },
  {
   "cell_type": "code",
   "execution_count": null,
   "id": "f907a87a-9229-4a06-a3a4-1779d01dbe50",
   "metadata": {},
   "outputs": [],
   "source": [
    "filtered_gdf = vessel_pos_combined_gdf[vessel_pos_combined_gdf.intersects(australia_bbox)]"
   ]
  },
  {
   "cell_type": "code",
   "execution_count": null,
   "id": "87ea4413927c2418",
   "metadata": {},
   "outputs": [],
   "source": [
    "cvs = ds.Canvas(plot_width=2048, plot_height=1536)\n",
    "agg = cvs.points(filtered_gdf, \"LON\", \"LAT\")\n",
    "img = ds.tf.shade(agg, cmap=colorcet.kbc, how=\"log\")\n",
    "img = tf.set_background(img, \"black\")"
   ]
  },
  {
   "cell_type": "code",
   "execution_count": null,
   "id": "81fc1522-9ce7-47bb-8ed8-db7379d888b0",
   "metadata": {},
   "outputs": [],
   "source": [
    "img.to_pil().save(\"ship_movement_heatmap_2048_1536_kbc.png\")"
   ]
  },
  {
   "cell_type": "code",
   "execution_count": null,
   "id": "d260abfa0019e28d",
   "metadata": {},
   "outputs": [],
   "source": [
    "img.to_pil().save(\"ship_movement_heatmap_2048_1536_kbc.webp\")"
   ]
  }
 ],
 "metadata": {
  "kernelspec": {
   "display_name": "Python 3 (ipykernel)",
   "language": "python",
   "name": "python3"
  },
  "language_info": {
   "codemirror_mode": {
    "name": "ipython",
    "version": 3
   },
   "file_extension": ".py",
   "mimetype": "text/x-python",
   "name": "python",
   "nbconvert_exporter": "python",
   "pygments_lexer": "ipython3",
   "version": "3.11.6"
  }
 },
 "nbformat": 4,
 "nbformat_minor": 5
}
